{
 "cells": [
  {
   "cell_type": "code",
   "execution_count": 1,
   "metadata": {},
   "outputs": [],
   "source": [
    "import numpy as np\n",
    "import pandas as pd\n",
    "import matplotlib.pyplot as plt\n",
    "import sklearn.datasets\n",
    "import sklearn.neighbors\n",
    "import sklearn.datasets\n",
    "import sklearn.metrics"
   ]
  },
  {
   "cell_type": "code",
   "execution_count": 2,
   "metadata": {},
   "outputs": [
    {
     "data": {
      "text/html": [
       "<div>\n",
       "<style scoped>\n",
       "    .dataframe tbody tr th:only-of-type {\n",
       "        vertical-align: middle;\n",
       "    }\n",
       "\n",
       "    .dataframe tbody tr th {\n",
       "        vertical-align: top;\n",
       "    }\n",
       "\n",
       "    .dataframe thead th {\n",
       "        text-align: right;\n",
       "    }\n",
       "</style>\n",
       "<table border=\"1\" class=\"dataframe\">\n",
       "  <thead>\n",
       "    <tr style=\"text-align: right;\">\n",
       "      <th></th>\n",
       "      <th>target</th>\n",
       "      <th>race</th>\n",
       "      <th>gender</th>\n",
       "      <th>age</th>\n",
       "      <th>numberofraters</th>\n",
       "      <th>female_prop</th>\n",
       "      <th>male_prop</th>\n",
       "      <th>asian_prop</th>\n",
       "      <th>black_prop</th>\n",
       "      <th>latino_prop</th>\n",
       "      <th>...</th>\n",
       "      <th>eyeshape</th>\n",
       "      <th>eyesize</th>\n",
       "      <th>upperheadlength</th>\n",
       "      <th>midfacelength</th>\n",
       "      <th>chinlength</th>\n",
       "      <th>foreheadheight</th>\n",
       "      <th>cheekboneheight</th>\n",
       "      <th>cheekboneprominence</th>\n",
       "      <th>faceroundness</th>\n",
       "      <th>fwhr</th>\n",
       "    </tr>\n",
       "  </thead>\n",
       "  <tbody>\n",
       "    <tr>\n",
       "      <th>0</th>\n",
       "      <td>AF-200</td>\n",
       "      <td>A</td>\n",
       "      <td>F</td>\n",
       "      <td>32.571429</td>\n",
       "      <td>28</td>\n",
       "      <td>1.000000</td>\n",
       "      <td>0.000000</td>\n",
       "      <td>1.000000</td>\n",
       "      <td>0.000000</td>\n",
       "      <td>0.000000</td>\n",
       "      <td>...</td>\n",
       "      <td>0.404651</td>\n",
       "      <td>0.060924</td>\n",
       "      <td>0.414099</td>\n",
       "      <td>0.326797</td>\n",
       "      <td>0.130719</td>\n",
       "      <td>0.264706</td>\n",
       "      <td>0.388189</td>\n",
       "      <td>91.5</td>\n",
       "      <td>0.545752</td>\n",
       "      <td>1.921146</td>\n",
       "    </tr>\n",
       "    <tr>\n",
       "      <th>1</th>\n",
       "      <td>AF-201</td>\n",
       "      <td>A</td>\n",
       "      <td>F</td>\n",
       "      <td>23.666667</td>\n",
       "      <td>27</td>\n",
       "      <td>1.000000</td>\n",
       "      <td>0.000000</td>\n",
       "      <td>0.962963</td>\n",
       "      <td>0.000000</td>\n",
       "      <td>0.000000</td>\n",
       "      <td>...</td>\n",
       "      <td>0.329204</td>\n",
       "      <td>0.041892</td>\n",
       "      <td>0.414414</td>\n",
       "      <td>0.329279</td>\n",
       "      <td>0.144595</td>\n",
       "      <td>0.300901</td>\n",
       "      <td>0.383784</td>\n",
       "      <td>146.0</td>\n",
       "      <td>0.488288</td>\n",
       "      <td>1.901129</td>\n",
       "    </tr>\n",
       "    <tr>\n",
       "      <th>2</th>\n",
       "      <td>AF-202</td>\n",
       "      <td>A</td>\n",
       "      <td>F</td>\n",
       "      <td>24.448276</td>\n",
       "      <td>29</td>\n",
       "      <td>0.827586</td>\n",
       "      <td>0.172414</td>\n",
       "      <td>0.310345</td>\n",
       "      <td>0.068966</td>\n",
       "      <td>0.137931</td>\n",
       "      <td>...</td>\n",
       "      <td>0.357939</td>\n",
       "      <td>0.051586</td>\n",
       "      <td>0.411080</td>\n",
       "      <td>0.310317</td>\n",
       "      <td>0.173424</td>\n",
       "      <td>0.298475</td>\n",
       "      <td>0.397029</td>\n",
       "      <td>58.0</td>\n",
       "      <td>0.481333</td>\n",
       "      <td>1.888249</td>\n",
       "    </tr>\n",
       "    <tr>\n",
       "      <th>3</th>\n",
       "      <td>AF-203</td>\n",
       "      <td>A</td>\n",
       "      <td>F</td>\n",
       "      <td>22.758621</td>\n",
       "      <td>29</td>\n",
       "      <td>1.000000</td>\n",
       "      <td>0.000000</td>\n",
       "      <td>0.758621</td>\n",
       "      <td>0.000000</td>\n",
       "      <td>0.068966</td>\n",
       "      <td>...</td>\n",
       "      <td>0.443200</td>\n",
       "      <td>0.063913</td>\n",
       "      <td>0.354407</td>\n",
       "      <td>0.343793</td>\n",
       "      <td>0.169820</td>\n",
       "      <td>0.272266</td>\n",
       "      <td>0.421089</td>\n",
       "      <td>87.5</td>\n",
       "      <td>0.500231</td>\n",
       "      <td>1.863719</td>\n",
       "    </tr>\n",
       "    <tr>\n",
       "      <th>4</th>\n",
       "      <td>AF-204</td>\n",
       "      <td>A</td>\n",
       "      <td>F</td>\n",
       "      <td>30.137931</td>\n",
       "      <td>29</td>\n",
       "      <td>1.000000</td>\n",
       "      <td>0.000000</td>\n",
       "      <td>0.827586</td>\n",
       "      <td>0.000000</td>\n",
       "      <td>0.068966</td>\n",
       "      <td>...</td>\n",
       "      <td>0.432247</td>\n",
       "      <td>0.053435</td>\n",
       "      <td>0.438931</td>\n",
       "      <td>0.293045</td>\n",
       "      <td>0.180237</td>\n",
       "      <td>0.293893</td>\n",
       "      <td>0.371925</td>\n",
       "      <td>73.5</td>\n",
       "      <td>0.513571</td>\n",
       "      <td>1.935783</td>\n",
       "    </tr>\n",
       "  </tbody>\n",
       "</table>\n",
       "<p>5 rows × 69 columns</p>\n",
       "</div>"
      ],
      "text/plain": [
       "   target race gender        age  numberofraters  female_prop  male_prop  \\\n",
       "0  AF-200    A      F  32.571429              28     1.000000   0.000000   \n",
       "1  AF-201    A      F  23.666667              27     1.000000   0.000000   \n",
       "2  AF-202    A      F  24.448276              29     0.827586   0.172414   \n",
       "3  AF-203    A      F  22.758621              29     1.000000   0.000000   \n",
       "4  AF-204    A      F  30.137931              29     1.000000   0.000000   \n",
       "\n",
       "   asian_prop  black_prop  latino_prop  ...  eyeshape   eyesize  \\\n",
       "0    1.000000    0.000000     0.000000  ...  0.404651  0.060924   \n",
       "1    0.962963    0.000000     0.000000  ...  0.329204  0.041892   \n",
       "2    0.310345    0.068966     0.137931  ...  0.357939  0.051586   \n",
       "3    0.758621    0.000000     0.068966  ...  0.443200  0.063913   \n",
       "4    0.827586    0.000000     0.068966  ...  0.432247  0.053435   \n",
       "\n",
       "   upperheadlength  midfacelength  chinlength  foreheadheight  \\\n",
       "0         0.414099       0.326797    0.130719        0.264706   \n",
       "1         0.414414       0.329279    0.144595        0.300901   \n",
       "2         0.411080       0.310317    0.173424        0.298475   \n",
       "3         0.354407       0.343793    0.169820        0.272266   \n",
       "4         0.438931       0.293045    0.180237        0.293893   \n",
       "\n",
       "   cheekboneheight  cheekboneprominence  faceroundness      fwhr  \n",
       "0         0.388189                 91.5       0.545752  1.921146  \n",
       "1         0.383784                146.0       0.488288  1.901129  \n",
       "2         0.397029                 58.0       0.481333  1.888249  \n",
       "3         0.421089                 87.5       0.500231  1.863719  \n",
       "4         0.371925                 73.5       0.513571  1.935783  \n",
       "\n",
       "[5 rows x 69 columns]"
      ]
     },
     "execution_count": 2,
     "metadata": {},
     "output_type": "execute_result"
    }
   ],
   "source": [
    "#Gettting our data\n",
    "df = pd.read_csv('cfd.csv')\n",
    "df.columns = df.columns.str.lower()\n",
    "df.head()"
   ]
  },
  {
   "cell_type": "code",
   "execution_count": 3,
   "metadata": {},
   "outputs": [],
   "source": [
    "#Getting our X and Y\n",
    "feat_list = ['babyface', 'numberofraters', 'eyesize', 'faceroundness']\n",
    "X = df['babyface'].to_numpy(), df['numberofraters'].to_numpy(), df['eyesize'].to_numpy(), df['faceroundness'].to_numpy()\n",
    "y = list(df['gender'])\n",
    "y = [0 if j == 'F' else 1 for j in y]"
   ]
  },
  {
   "cell_type": "code",
   "execution_count": 4,
   "metadata": {},
   "outputs": [],
   "source": [
    "def show_decision_surface(model, X, y):\n",
    "    \"\"\"\n",
    "    Helper function to visualize the decision surface of model\n",
    "    :param model: Initialized KNNClassifier\n",
    "    :return: None\n",
    "    \"\"\"\n",
    "    x_min, x_max = X[:, 0].min()-1, X[:, 0].max()+1\n",
    "    y_min, y_max = X[:, 1].min()-1, X[:, 1].max()+1\n",
    "    x_grid = np.arange(x_min, x_max, 0.1)\n",
    "    y_grid = np.arange(y_min, y_max, 0.1)\n",
    "    xx, yy = np.meshgrid(x_grid, y_grid)\n",
    "    r1, r2 = xx.reshape(-1,1), yy.reshape(-1,1)\n",
    "    grid = np.hstack((r1,r2))\n",
    "    y_hat = model.predict(grid)\n",
    "    zz = y_hat.reshape(xx.shape)\n",
    "    plt.contourf(xx, yy, zz, cmap='PiYG')\n",
    "    plt.scatter(X[:,0], X[:,1], c=y)\n",
    "    plt.show()"
   ]
  },
  {
   "cell_type": "code",
   "execution_count": 5,
   "metadata": {},
   "outputs": [
    {
     "name": "stdout",
     "output_type": "stream",
     "text": [
      "Feature:  babyface   Predicting: gender\n",
      "Accuracy =  0.6063651591289783\n"
     ]
    },
    {
     "data": {
      "image/png": "[encoded data removed]",
      "text/plain": [
       "<Figure size 432x288 with 2 Axes>"
      ]
     },
     "metadata": {
      "needs_background": "light"
     },
     "output_type": "display_data"
    },
    {
     "name": "stdout",
     "output_type": "stream",
     "text": [
      "Feature:  numberofraters   Predicting: gender\n",
      "Accuracy =  0.541038525963149\n"
     ]
    },
    {
     "data": {
      "image/png": "[encoded data removed]",
      "text/plain": [
       "<Figure size 432x288 with 2 Axes>"
      ]
     },
     "metadata": {
      "needs_background": "light"
     },
     "output_type": "display_data"
    },
    {
     "name": "stdout",
     "output_type": "stream",
     "text": [
      "Feature:  eyesize   Predicting: gender\n",
      "Accuracy =  0.6398659966499163\n"
     ]
    },
    {
     "data": {
      "image/png": "[encoded data removed]",
      "text/plain": [
       "<Figure size 432x288 with 2 Axes>"
      ]
     },
     "metadata": {
      "needs_background": "light"
     },
     "output_type": "display_data"
    },
    {
     "name": "stdout",
     "output_type": "stream",
     "text": [
      "Feature:  faceroundness   Predicting: gender\n",
      "Accuracy =  0.6465661641541038\n"
     ]
    },
    {
     "data": {
      "image/png": "[encoded data removed]",
      "text/plain": [
       "<Figure size 432x288 with 2 Axes>"
      ]
     },
     "metadata": {
      "needs_background": "light"
     },
     "output_type": "display_data"
    }
   ],
   "source": [
    "#Fitting a model on each of the X's\n",
    "for i in range(len(feat_list)):\n",
    "    x_0 = X[i]\n",
    "    new_x = x_0[:, np.newaxis]\n",
    "    model = sklearn.neighbors.KNeighborsClassifier(n_neighbors=15)\n",
    "    model = model.fit(new_x, y)\n",
    "    #show_decision_surface(model, new_x, y)\n",
    "    y_pred = model.predict(new_x)\n",
    "    conf = sklearn.metrics.confusion_matrix(y, y_pred)\n",
    "    print('Feature: ', feat_list[i], '  Predicting: gender')\n",
    "    print(\"Accuracy = \", ((conf[0][0] + conf[1][1]) / len(y)))\n",
    "    disp = sklearn.metrics.ConfusionMatrixDisplay(conf)\n",
    "    disp.plot()\n",
    "    plt.show()\n"
   ]
  },
  {
   "cell_type": "code",
   "execution_count": 6,
   "metadata": {},
   "outputs": [],
   "source": [
    "from sklearn.preprocessing import LabelEncoder# Need both of these for the transform from categorical to numeric\n",
    "from sklearn.preprocessing import StandardScaler\n",
    "from sklearn.cluster import KMeans\n",
    "from sklearn.decomposition import PCA\n",
    "\n",
    "from pandas.api.types import is_string_dtype# For checking if a pandas column is a string or not\n",
    "from pandas.api.types import is_numeric_dtype"
   ]
  },
  {
   "cell_type": "code",
   "execution_count": 7,
   "metadata": {},
   "outputs": [
    {
     "name": "stdout",
     "output_type": "stream",
     "text": [
      "0      0\n",
      "1      0\n",
      "2      0\n",
      "3      0\n",
      "4      0\n",
      "      ..\n",
      "592    3\n",
      "593    3\n",
      "594    3\n",
      "595    3\n",
      "596    3\n",
      "Name: race, Length: 597, dtype: int64\n"
     ]
    }
   ],
   "source": [
    "encoder = LabelEncoder() # Now we get a categorical type and transform a certain column to numeric values\n",
    "df['race'] = encoder.fit_transform(df['race'].astype('str'))\n",
    "race_df = df.race\n",
    "print(df['race'])\n",
    "one_hot = pd.get_dummies(race_df, columns = ['race'], prefix=['race'])#Once we have the numerics we do one hot encoding"
   ]
  },
  {
   "cell_type": "code",
   "execution_count": 8,
   "metadata": {},
   "outputs": [
    {
     "name": "stdout",
     "output_type": "stream",
     "text": [
      "     ['race']_0  ['race']_1  ['race']_2  ['race']_3\n",
      "0             1           0           0           0\n",
      "1             1           0           0           0\n",
      "2             1           0           0           0\n",
      "3             1           0           0           0\n",
      "4             1           0           0           0\n",
      "..          ...         ...         ...         ...\n",
      "592           0           0           0           1\n",
      "593           0           0           0           1\n",
      "594           0           0           0           1\n",
      "595           0           0           0           1\n",
      "596           0           0           0           1\n",
      "\n",
      "[597 rows x 4 columns]\n"
     ]
    }
   ],
   "source": [
    "print(one_hot)#One hot encoding essentially adds in 0's for when the race isn't true and 1's for when it is"
   ]
  },
  {
   "cell_type": "code",
   "execution_count": 9,
   "metadata": {},
   "outputs": [
    {
     "name": "stdout",
     "output_type": "stream",
     "text": [
      "[[ 2.11590742 -0.70178344 -0.46995627 -0.6648526 ]\n",
      " [ 2.11590742 -0.70178344 -0.46995627 -0.6648526 ]\n",
      " [ 2.11590742 -0.70178344 -0.46995627 -0.6648526 ]\n",
      " ...\n",
      " [-0.47261047 -0.70178344 -0.46995627  1.50409278]\n",
      " [-0.47261047 -0.70178344 -0.46995627  1.50409278]\n",
      " [-0.47261047 -0.70178344 -0.46995627  1.50409278]]\n"
     ]
    }
   ],
   "source": [
    "scale = StandardScaler()\n",
    "print(scale.fit_transform(one_hot))"
   ]
  },
  {
   "cell_type": "code",
   "execution_count": 10,
   "metadata": {},
   "outputs": [],
   "source": [
    "def categorical_transform(feature, name):\n",
    "    '''Function for transforming a categorical feature into a numeric one\n",
    "       Parameters: Feature - incoming categorical feature of strings, Name - name of the feature\n",
    "       Returns: one_hot - a one hot encoding of the feature\n",
    "       Notes: Can use scale and standard scalar to change from binary values'''\n",
    "    \n",
    "    encoder = LabelEncoder() # Now we get a categorical type and transform a certain column to numeric values\n",
    "    feature = encoder.fit_transform(feature.astype('str'))\n",
    "    one_hot = pd.get_dummies(feature, columns = name, prefix=name)#Once we have the numerics we do one hot encoding\n",
    "    #scale = StandardScaler()\n",
    "    \n",
    "    #new_vals = scale.fit_transform(one_hot)\n",
    "    #one_hot = pd.DataFrame(new_vals, columns = one_hot.columns)\n",
    "    return(one_hot)"
   ]
  },
  {
   "cell_type": "code",
   "execution_count": 11,
   "metadata": {},
   "outputs": [
    {
     "name": "stdout",
     "output_type": "stream",
     "text": [
      "     race_0  race_1  race_2  race_3\n",
      "0         1       0       0       0\n",
      "1         1       0       0       0\n",
      "2         1       0       0       0\n",
      "3         1       0       0       0\n",
      "4         1       0       0       0\n",
      "..      ...     ...     ...     ...\n",
      "592       0       0       0       1\n",
      "593       0       0       0       1\n",
      "594       0       0       0       1\n",
      "595       0       0       0       1\n",
      "596       0       0       0       1\n",
      "\n",
      "[597 rows x 4 columns]\n"
     ]
    }
   ],
   "source": [
    "faces_df = pd.read_csv('cfd.csv')\n",
    "faces_df.columns = faces_df.columns.str.lower()\n",
    "print(categorical_transform(faces_df['race'], 'race'))"
   ]
  },
  {
   "cell_type": "code",
   "execution_count": 12,
   "metadata": {},
   "outputs": [],
   "source": [
    "def compose_df(feature_list, df):\n",
    "    '''Function for getting the dataframe to perform clustering on\n",
    "       Parameters: Feature_list - incoming list of features, df - master dataframe\n",
    "       Returns: return_frame - a df containing are selected numeric values\n",
    "       '''\n",
    "    return_frame = pd.DataFrame()\n",
    "    for feature in feature_list:\n",
    "        if is_string_dtype(df[feature]):\n",
    "            new_df = categorical_transform(df[feature], feature)\n",
    "            return_frame = pd.concat([return_frame, new_df], axis=1)\n",
    "        else:\n",
    "            return_frame[feature] = df[feature]\n",
    "    \n",
    "    scale = StandardScaler()\n",
    "    \n",
    "    new_vals = scale.fit_transform(return_frame)\n",
    "    return_frame = pd.DataFrame(new_vals, columns = return_frame.columns)\n",
    "    \n",
    "    return(return_frame)\n",
    "            "
   ]
  },
  {
   "cell_type": "code",
   "execution_count": 13,
   "metadata": {},
   "outputs": [
    {
     "name": "stdout",
     "output_type": "stream",
     "text": [
      "       race_0    race_1    race_2    race_3  gender_0  gender_1  \\\n",
      "0    2.115907 -0.701783 -0.469956 -0.664853  0.971918 -0.971918   \n",
      "1    2.115907 -0.701783 -0.469956 -0.664853  0.971918 -0.971918   \n",
      "2    2.115907 -0.701783 -0.469956 -0.664853  0.971918 -0.971918   \n",
      "3    2.115907 -0.701783 -0.469956 -0.664853  0.971918 -0.971918   \n",
      "4    2.115907 -0.701783 -0.469956 -0.664853  0.971918 -0.971918   \n",
      "..        ...       ...       ...       ...       ...       ...   \n",
      "592 -0.472610 -0.701783 -0.469956  1.504093 -1.028893  1.028893   \n",
      "593 -0.472610 -0.701783 -0.469956  1.504093 -1.028893  1.028893   \n",
      "594 -0.472610 -0.701783 -0.469956  1.504093 -1.028893  1.028893   \n",
      "595 -0.472610 -0.701783 -0.469956  1.504093 -1.028893  1.028893   \n",
      "596 -0.472610 -0.701783 -0.469956  1.504093 -1.028893  1.028893   \n",
      "\n",
      "     faceroundness   eyesize  \n",
      "0         1.347102  1.576844  \n",
      "1         0.376713 -0.990828  \n",
      "2         0.259255  0.316965  \n",
      "3         0.578386  1.980073  \n",
      "4         0.803661  0.566468  \n",
      "..             ...       ...  \n",
      "592      -0.092591 -0.488777  \n",
      "593      -1.461009  0.228967  \n",
      "594      -0.995989  0.157092  \n",
      "595      -0.181866  0.271529  \n",
      "596      -0.838953 -1.899323  \n",
      "\n",
      "[597 rows x 8 columns]\n"
     ]
    }
   ],
   "source": [
    "feat_list = ['race', 'gender', 'faceroundness', 'eyesize']\n",
    "print(compose_df(feat_list, faces_df))"
   ]
  },
  {
   "cell_type": "code",
   "execution_count": 14,
   "metadata": {},
   "outputs": [],
   "source": [
    "def clustering(df, k, feature_list):\n",
    "    df = compose_df(feature_list, df)\n",
    "    \n",
    "    pca = PCA().fit(df)\n",
    "    reduced_x = pca.transform(df)\n",
    "    \n",
    "    kmeans = KMeans(n_clusters = k)\n",
    "    km = kmeans.fit_predict(reduced_x)\n",
    "\n",
    "    colors = ['red', 'blue', 'green', 'orange', 'purple', 'black', 'yellow', 'grey', 'brown', 'pink']\n",
    "    for i in range(len(np.unique(km))):\n",
    "        plt.scatter(reduced_x[km==i, 0],reduced_x[km==i, 1],s=25,c=colors[i],label='Cluster1')\n",
    "        \n",
    "    plt.scatter(kmeans.cluster_centers_[:,0],kmeans.cluster_centers_[:,1],s=100,c='magenta',label='Centroids')"
   ]
  },
  {
   "cell_type": "code",
   "execution_count": 15,
   "metadata": {},
   "outputs": [
    {
     "data": {
      "image/png": "[encoded data removed]",
      "text/plain": [
       "<Figure size 432x288 with 1 Axes>"
      ]
     },
     "metadata": {
      "needs_background": "light"
     },
     "output_type": "display_data"
    }
   ],
   "source": [
    "clustering(faces_df, 10, feat_list)"
   ]
  },
  {
   "cell_type": "code",
   "execution_count": null,
   "metadata": {},
   "outputs": [],
   "source": []
  }
 ],
 "metadata": {
  "kernelspec": {
   "display_name": "Python 3",
   "language": "python",
   "name": "python3"
  },
  "language_info": {
   "codemirror_mode": {
    "name": "ipython",
    "version": 3
   },
   "file_extension": ".py",
   "mimetype": "text/x-python",
   "name": "python",
   "nbconvert_exporter": "python",
   "pygments_lexer": "ipython3",
   "version": "3.8.5"
  }
 },
 "nbformat": 4,
 "nbformat_minor": 4
}
